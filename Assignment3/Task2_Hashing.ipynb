{
 "cells": [
  {
   "cell_type": "code",
   "execution_count": 95,
   "metadata": {
    "collapsed": true
   },
   "outputs": [],
   "source": [
    "import pandas as pd\n",
    "import numpy as np\n",
    "import os\n",
    "import glob\n",
    "from collections import Counter\n",
    "import math\n",
    "from bitarray import bitarray\n",
    "import mmh3\n",
    "import matplotlib.pyplot as plt\n",
    "plt.style.use('ggplot')\n",
    "%matplotlib inline"
   ]
  },
  {
   "cell_type": "code",
   "execution_count": 56,
   "metadata": {
    "collapsed": false
   },
   "outputs": [],
   "source": [
    "df_ip = pd.read_table(\"C:\\Users\\Apourva\\Downloads\\ips.txt\", header = None)\n",
    "iplist = df_ip[0].tolist()"
   ]
  },
  {
   "cell_type": "code",
   "execution_count": 107,
   "metadata": {
    "collapsed": false
   },
   "outputs": [
    {
     "name": "stdout",
     "output_type": "stream",
     "text": [
      "3414010\n",
      "1707005\n"
     ]
    }
   ],
   "source": [
    "l1 = int(math.floor((len(iplist))/2))\n",
    "l2 = int(math.ceil((len(iplist))/2))\n",
    "training = iplist[:l1]\n",
    "test = iplist[l2:]\n",
    "\n",
    "print len(training) + len(test)\n",
    "print len(training)"
   ]
  },
  {
   "cell_type": "code",
   "execution_count": 58,
   "metadata": {
    "collapsed": false
   },
   "outputs": [
    {
     "name": "stdout",
     "output_type": "stream",
     "text": [
      "Number of IP addresses common in Test and Training:  50273\n"
     ]
    }
   ],
   "source": [
    "match_test_ip_in_training = {}\n",
    "intr = list(set(training).intersection(set(test)))\n",
    "print 'Number of IP addresses common in Test and Training: ', len(intr)"
   ]
  },
  {
   "cell_type": "code",
   "execution_count": 82,
   "metadata": {
    "collapsed": false
   },
   "outputs": [
    {
     "name": "stdout",
     "output_type": "stream",
     "text": [
      "\n"
     ]
    }
   ],
   "source": [
    "def bloom_filter ( n ):\n",
    "    bit_array = bitarray(n)\n",
    "    bit_array.setall(0)\n",
    "    for i in training:\n",
    "        b1 = mmh3.hash(str(i), 42) % n \n",
    "        bit_array[b1] = 1\n",
    "        b2 = mmh3.hash(str(i), 24) % n \n",
    "        bit_array[b2] = 1\n",
    "        b3 = mmh3.hash(str(i), 84) % n \n",
    "        bit_array[b3] = 1  \n",
    "    return bit_array"
   ]
  },
  {
   "cell_type": "code",
   "execution_count": 86,
   "metadata": {
    "collapsed": false
   },
   "outputs": [],
   "source": [
    "def calculate_false_positives ( bit_array, n ):\n",
    "    found_list = []\n",
    "    false_positive_count = 0\n",
    "    for i in test:\n",
    "        b1 = mmh3.hash(i, 42) % n \n",
    "        b2 = mmh3.hash(i, 24) % n \n",
    "        b3 = mmh3.hash(i, 84) % n\n",
    "        x = bit_array[b1] == 1 and bit_array[b2] == 1 and bit_array[b3] == 1\n",
    "        if x:\n",
    "            found_list.append(i)\n",
    "    false_positive_list = list(set(found_list) - set(intr))\n",
    "    return false_positive_list"
   ]
  },
  {
   "cell_type": "code",
   "execution_count": 87,
   "metadata": {
    "collapsed": false
   },
   "outputs": [
    {
     "name": "stdout",
     "output_type": "stream",
     "text": [
      "number of false positives:  200825\n"
     ]
    }
   ],
   "source": [
    "n = 10000\n",
    "bit_array_10k = bloom_filter(n)\n",
    "print \"number of false positives: \", len(calculate_false_positives (bit_array_10k, n))"
   ]
  },
  {
   "cell_type": "code",
   "execution_count": 88,
   "metadata": {
    "collapsed": false
   },
   "outputs": [
    {
     "name": "stdout",
     "output_type": "stream",
     "text": [
      "number of false positives:  200815\n"
     ]
    }
   ],
   "source": [
    "n = 100000\n",
    "bit_array_100k = bloom_filter(n)\n",
    "print \"number of false positives: \", len(calculate_false_positives (bit_array_100k, n))"
   ]
  },
  {
   "cell_type": "code",
   "execution_count": 89,
   "metadata": {
    "collapsed": false
   },
   "outputs": [
    {
     "name": "stdout",
     "output_type": "stream",
     "text": [
      "number of false positives:  57833\n"
     ]
    }
   ],
   "source": [
    "n = 1000000\n",
    "bit_array_1M = bloom_filter(n)\n",
    "print \"number of false positives: \", len(calculate_false_positives (bit_array_1M, n))"
   ]
  },
  {
   "cell_type": "code",
   "execution_count": 92,
   "metadata": {
    "collapsed": false
   },
   "outputs": [
    {
     "name": "stdout",
     "output_type": "stream",
     "text": [
      "number of false positives:  209\n"
     ]
    }
   ],
   "source": [
    "n = 10000000\n",
    "bit_array_10M = bloom_filter(n)\n",
    "print \"number of false positives: \", len(calculate_false_positives (bit_array_10M, n))"
   ]
  },
  {
   "cell_type": "code",
   "execution_count": 93,
   "metadata": {
    "collapsed": false
   },
   "outputs": [
    {
     "name": "stdout",
     "output_type": "stream",
     "text": [
      "number of false positives:  0\n"
     ]
    }
   ],
   "source": [
    "n = 1000000000\n",
    "bit_array_1B = bloom_filter(n)\n",
    "print \"number of false positives: \", len(calculate_false_positives (bit_array_1B, n))"
   ]
  },
  {
   "cell_type": "markdown",
   "metadata": {},
   "source": [
    "We split the list of IP addresses into two equal halves. Let's call the first half as training dataset and the second hafl as test dataset. We create a Bloom Filter for hash sizes of 10K, 100K, 1M, 10M and 1B using three seed values. The IP addresses in the training dataset are mapped to the hash spaces of different sizes.\n",
    "\n",
    "For each IP address in the test dataset, we check if it's present in the training dataset by applying the hash functions on the IP addresses in the test dataset.\n",
    "\n",
    "In this dataset, there are actually 50273 IP addresses in the Test dataset which are also present in the training dataset. Now we check how many IP addresses in the Test dataset has been found in the training data by the Bloom Filter. If the Bloom Filter has found an IP address in the hash space though it doesn't actualy exist, then this is a flase positive.\n",
    "\n",
    "The table below shows the number of false positives generated for different sizes of hash space. \n",
    "\n",
    "The probability for false positives increases when the size of the hash space is much smaller that the number of distinct values to be mapped to the space. In this case, an IP address in the test data that is not actually present in the training data may get hashed to the same value as an IP address that is indeed present leading to a false positive.\n",
    "\n",
    "However, as the size of the hash space increases, we see that the number of coolisions is lower and for a hash size of 1 Billion, there are no false positives."
   ]
  },
  {
   "cell_type": "markdown",
   "metadata": {},
   "source": [
    "| Hash Space Size | Number of False Positives |\n",
    "|-----------------|---------------------------|\n",
    "| 10000           | 200825                    |\n",
    "| 100000          | 200815                    |\n",
    "| 1000000         | 57833                     |\n",
    "| 10000000        | 209                       |\n",
    "| 1000000000      | 0                         |"
   ]
  },
  {
   "cell_type": "code",
   "execution_count": null,
   "metadata": {
    "collapsed": true
   },
   "outputs": [],
   "source": []
  }
 ],
 "metadata": {
  "kernelspec": {
   "display_name": "Python 2",
   "language": "python",
   "name": "python2"
  },
  "language_info": {
   "codemirror_mode": {
    "name": "ipython",
    "version": 2
   },
   "file_extension": ".py",
   "mimetype": "text/x-python",
   "name": "python",
   "nbconvert_exporter": "python",
   "pygments_lexer": "ipython2",
   "version": "2.7.13"
  }
 },
 "nbformat": 4,
 "nbformat_minor": 2
}
