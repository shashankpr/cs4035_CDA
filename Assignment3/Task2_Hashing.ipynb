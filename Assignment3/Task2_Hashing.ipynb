{
 "cells": [
  {
   "cell_type": "code",
   "execution_count": 2,
   "metadata": {
    "collapsed": false
   },
   "outputs": [],
   "source": [
    "import pandas as pd\n",
    "import numpy as np\n",
    "import os\n",
    "import glob\n",
    "from collections import Counter\n",
    "import math\n",
    "from bitarray import bitarray\n",
    "import mmh3\n",
    "import matplotlib.pyplot as plt\n",
    "from __future__ import division\n",
    "plt.style.use('ggplot')\n",
    "%matplotlib inline"
   ]
  },
  {
   "cell_type": "code",
   "execution_count": 3,
   "metadata": {
    "collapsed": false
   },
   "outputs": [],
   "source": [
    "df_ip = pd.read_table(\"C:\\Users\\Apourva\\Downloads\\ips.txt\", header = None)\n",
    "iplist = df_ip[0].tolist()"
   ]
  },
  {
   "cell_type": "code",
   "execution_count": 4,
   "metadata": {
    "collapsed": false
   },
   "outputs": [
    {
     "name": "stdout",
     "output_type": "stream",
     "text": [
      "3414010\n",
      "1707005\n"
     ]
    }
   ],
   "source": [
    "l1 = int(math.floor((len(iplist))/2))\n",
    "l2 = int(math.ceil((len(iplist))/2))\n",
    "training = iplist[:l1]\n",
    "test = iplist[l2:]\n",
    "\n",
    "print len(training) + len(test)\n",
    "print len(training)"
   ]
  },
  {
   "cell_type": "code",
   "execution_count": 5,
   "metadata": {
    "collapsed": false
   },
   "outputs": [
    {
     "name": "stdout",
     "output_type": "stream",
     "text": [
      "set([1, 2, 3, 4])\n"
     ]
    }
   ],
   "source": [
    "l = [1,2,3,2,4]\n",
    "print set(l)"
   ]
  },
  {
   "cell_type": "code",
   "execution_count": 5,
   "metadata": {
    "collapsed": false
   },
   "outputs": [
    {
     "name": "stdout",
     "output_type": "stream",
     "text": [
      "Number of IP addresses common in Test and Training:  50273\n"
     ]
    }
   ],
   "source": [
    "match_test_ip_in_training = {}\n",
    "intr = list(set(training).intersection(set(test)))\n",
    "print 'Number of IP addresses common in Test and Training: ', len(intr)"
   ]
  },
  {
   "cell_type": "code",
   "execution_count": 7,
   "metadata": {
    "collapsed": false
   },
   "outputs": [],
   "source": [
    "def bloom_filter ( n ):\n",
    "    bit_array = bitarray(n)\n",
    "    bit_array.setall(0)\n",
    "    for i in training:\n",
    "        b1 = mmh3.hash(str(i), 42) % n \n",
    "        bit_array[b1] = 1\n",
    "        b2 = mmh3.hash(str(i), 24) % n \n",
    "        bit_array[b2] = 1\n",
    "        b3 = mmh3.hash(str(i), 84) % n \n",
    "        bit_array[b3] = 1  \n",
    "    return bit_array"
   ]
  },
  {
   "cell_type": "code",
   "execution_count": 8,
   "metadata": {
    "collapsed": false
   },
   "outputs": [],
   "source": [
    "def calculate_false_positives ( bit_array, n ):\n",
    "    found_list = []\n",
    "    false_positive_count = 0\n",
    "    for i in test:\n",
    "        b1 = mmh3.hash(i, 42) % n \n",
    "        b2 = mmh3.hash(i, 24) % n \n",
    "        b3 = mmh3.hash(i, 84) % n\n",
    "        x = bit_array[b1] == 1 and bit_array[b2] == 1 and bit_array[b3] == 1\n",
    "        if x:\n",
    "            found_list.append(i)\n",
    "    false_positive_list = list(set(found_list) - set(intr))\n",
    "    return false_positive_list"
   ]
  },
  {
   "cell_type": "code",
   "execution_count": 42,
   "metadata": {
    "collapsed": true
   },
   "outputs": [],
   "source": [
    "def false_positive_rate_theoretical_bound ( m, n ):\n",
    "    t0 = (m * np.log(2)) / n\n",
    "    t1 = - t0 * (n / m)\n",
    "    t2 = np.exp(t1)\n",
    "    t3 = 1 - t2\n",
    "    t4 = np.power(t3, t0)\n",
    "    print t4"
   ]
  },
  {
   "cell_type": "code",
   "execution_count": 43,
   "metadata": {
    "collapsed": false
   },
   "outputs": [
    {
     "name": "stdout",
     "output_type": "stream",
     "text": [
      "number of false positives:  200825\n",
      "0.986794595327\n"
     ]
    }
   ],
   "source": [
    "n = 10000\n",
    "bit_array_10k = bloom_filter(n)\n",
    "print \"number of false positives: \", len(calculate_false_positives (bit_array_10k, n))\n",
    "print \"false positive rate: \", false_positive_rate_theoretical_bound(n, 361423)"
   ]
  },
  {
   "cell_type": "code",
   "execution_count": 44,
   "metadata": {
    "collapsed": false
   },
   "outputs": [
    {
     "name": "stdout",
     "output_type": "stream",
     "text": [
      "number of false positives:  200815\n",
      "false positive rate:  0.875523125894\n",
      "None\n"
     ]
    }
   ],
   "source": [
    "n = 100000\n",
    "bit_array_100k = bloom_filter(n)\n",
    "print \"number of false positives: \", len(calculate_false_positives (bit_array_100k, n))\n",
    "print \"false positive rate: \", false_positive_rate_theoretical_bound(n, 361423)"
   ]
  },
  {
   "cell_type": "code",
   "execution_count": 45,
   "metadata": {
    "collapsed": false
   },
   "outputs": [
    {
     "name": "stdout",
     "output_type": "stream",
     "text": [
      "number of false positives:  57833\n",
      "false positive rate:  0.26465263318\n",
      "None\n"
     ]
    }
   ],
   "source": [
    "n = 1000000\n",
    "bit_array_1M = bloom_filter(n)\n",
    "print \"number of false positives: \", len(calculate_false_positives (bit_array_1M, n))\n",
    "print \"false positive rate: \", false_positive_rate_theoretical_bound(n, 361423)"
   ]
  },
  {
   "cell_type": "code",
   "execution_count": 46,
   "metadata": {
    "collapsed": false
   },
   "outputs": [
    {
     "name": "stdout",
     "output_type": "stream",
     "text": [
      "number of false positives:  209\n",
      "false positive rate:  1.6856297745e-06\n",
      "None\n"
     ]
    }
   ],
   "source": [
    "n = 10000000\n",
    "bit_array_10M = bloom_filter(n)\n",
    "print \"number of false positives: \", len(calculate_false_positives (bit_array_10M, n))\n",
    "print \"false positive rate: \", false_positive_rate_theoretical_bound(n, 361423)"
   ]
  },
  {
   "cell_type": "code",
   "execution_count": 13,
   "metadata": {
    "collapsed": false
   },
   "outputs": [
    {
     "name": "stdout",
     "output_type": "stream",
     "text": [
      "number of false positives:  75\n"
     ]
    }
   ],
   "source": [
    "n = 15000000\n",
    "bit_array_15M = bloom_filter(n)\n",
    "print \"number of false positives: \", len(calculate_false_positives (bit_array_15M, n))\n",
    "print \"false positive rate: \", false_positive_rate_theoretical_bound(n, 361423)"
   ]
  },
  {
   "cell_type": "code",
   "execution_count": 47,
   "metadata": {
    "collapsed": false
   },
   "outputs": [
    {
     "name": "stdout",
     "output_type": "stream",
     "text": [
      "number of false positives:  0\n",
      "false positive rate:  0.0\n",
      "None\n"
     ]
    }
   ],
   "source": [
    "n = 1000000000\n",
    "bit_array_1B = bloom_filter(n)\n",
    "print \"number of false positives: \", len(calculate_false_positives (bit_array_1B, n))\n",
    "print \"false positive rate: \", false_positive_rate_theoretical_bound(n, 361423)"
   ]
  },
  {
   "cell_type": "markdown",
   "metadata": {},
   "source": [
    "We split the list of IP addresses into two equal halves. Let's call the first half as training dataset and the second hafl as test dataset. We create a Bloom Filter for hash sizes of 10K, 100K, 1M, 10M and 1B using three seed values. The IP addresses in the training dataset are mapped to the hash spaces of different sizes.\n",
    "\n",
    "For each IP address in the test dataset, we check if it's present in the training dataset by applying the hash functions on the IP addresses in the test dataset.\n",
    "\n",
    "In this dataset, there are actually 50273 IP addresses in the Test dataset which are also present in the training dataset. Now we check how many IP addresses in the Test dataset has been found in the training data by the Bloom Filter. If the Bloom Filter has found an IP address in the hash space though it doesn't actualy exist, then this is a flase positive.\n",
    "\n",
    "The table below shows the number of false positives generated for different sizes of hash space. \n",
    "\n",
    "The probability for false positives increases when the size of the hash space is much smaller that the number of distinct values to be mapped to the space. In this case, an IP address in the test data that is not actually present in the training data may get hashed to the same value as an IP address that is indeed present leading to a false positive.\n",
    "\n",
    "However, as the size of the hash space increases, we see that the number of coolisions is lower and for a hash size of 1 Billion, there are no false positives."
   ]
  },
  {
   "cell_type": "markdown",
   "metadata": {},
   "source": [
    "| Hash Space Size | Number of False Positives |False Positive Rate |\n",
    "|-----------------|---------------------------|--------------------|\n",
    "| 10000           | 200825                    |  0.986794595327    |\n",
    "| 100000          | 200815                    |  0.875523125894    |\n",
    "| 1000000         | 57833                     |  0.26465263318     |\n",
    "| 10000000        | 209                       |  1.6856297745e-06  |\n",
    "| 1000000000      | 0                         |  0.0               |"
   ]
  },
  {
   "cell_type": "markdown",
   "metadata": {},
   "source": [
    "The more hash functions you have, the slower your bloom filter, and the quicker it fills up. If you have too few, however, you may suffer too many false positives.\n",
    "To optimize the number of hash functions 'k' and size on bit array 'm' based on the number of distint IP addresses to be hashed 'n' using the formulas below:\n",
    "\n",
    "\n",
    " m = - n * (ln p) / (ln 2)^2\n",
    "\n",
    " k = - (ln p) / (ln 2)"
   ]
  },
  {
   "cell_type": "code",
   "execution_count": 13,
   "metadata": {
    "collapsed": false
   },
   "outputs": [],
   "source": [
    "l2 = np.log(2) * np.log(2)\n",
    "# We choose p = 0.01\n",
    "lp = np.log(0.01)"
   ]
  },
  {
   "cell_type": "code",
   "execution_count": 41,
   "metadata": {
    "collapsed": false
   },
   "outputs": [
    {
     "name": "stdout",
     "output_type": "stream",
     "text": [
      "361423\n",
      "bit array size:  3464260.55392\n",
      "number of hash functions:  9.96578428466\n"
     ]
    }
   ],
   "source": [
    "# Get number of distinct IP addresses in training data\n",
    "n = len(set(training))\n",
    "print n\n",
    "# Size of bit array\n",
    "m = - ( n * lp ) / l2\n",
    "print \"bit array size: \", m\n",
    "\n",
    "# No of hash functions to use \n",
    "k = - np.log(0.001) / np.log(2)\n",
    "print \"number of hash functions: \", k"
   ]
  },
  {
   "cell_type": "code",
   "execution_count": 39,
   "metadata": {
    "collapsed": true
   },
   "outputs": [],
   "source": [
    "def bloom_filter_10 ( n ):\n",
    "    bit_array = bitarray(n)\n",
    "    bit_array.setall(0)\n",
    "    for i in training:\n",
    "        b1 = mmh3.hash(str(i), 42) % n \n",
    "        bit_array[b1] = 1\n",
    "        b2 = mmh3.hash(str(i), 27) % n \n",
    "        bit_array[b2] = 1\n",
    "        b3 = mmh3.hash(str(i), 89) % n \n",
    "        bit_array[b3] = 1  \n",
    "        b4 = mmh3.hash(str(i), 30) % n \n",
    "        bit_array[b4] = 1  \n",
    "        b5 = mmh3.hash(str(i), 16) % n \n",
    "        bit_array[b5] = 1  \n",
    "        b6 = mmh3.hash(str(i), 68) % n \n",
    "        bit_array[b6] = 1  \n",
    "        b7 = mmh3.hash(str(i), 75) % n \n",
    "        bit_array[b7] = 1  \n",
    "        b8 = mmh3.hash(str(i), 19) % n \n",
    "        bit_array[b8] = 1  \n",
    "        b9 = mmh3.hash(str(i), 8) % n \n",
    "        bit_array[b9] = 1  \n",
    "        b10 = mmh3.hash(str(i), 53) % n \n",
    "        bit_array[b10] = 1  \n",
    "    return bit_array"
   ]
  },
  {
   "cell_type": "code",
   "execution_count": 38,
   "metadata": {
    "collapsed": false
   },
   "outputs": [],
   "source": [
    "def calculate_false_positives_10 ( bit_array, n ):\n",
    "    found_list = []\n",
    "    false_positive_count = 0\n",
    "    for i in test:\n",
    "        b1 = mmh3.hash(i, 42) % n \n",
    "        b2 = mmh3.hash(i, 24) % n \n",
    "        b3 = mmh3.hash(i, 84) % n\n",
    "        x = bit_array[b1] == 1 and bit_array[b2] == 1 and bit_array[b3] == 1 and bit_array[b4] and bit_array[b5] and bit_array[b6] and bit_array[b7] and  bit_array[b8] and bit_array[b9] and bit_array[b10] \n",
    "        if x:\n",
    "            found_list.append(i)\n",
    "    false_positive_list = list(set(found_list) - set(intr))\n",
    "    return false_positive_list"
   ]
  },
  {
   "cell_type": "code",
   "execution_count": 40,
   "metadata": {
    "collapsed": false
   },
   "outputs": [
    {
     "name": "stdout",
     "output_type": "stream",
     "text": [
      "number of false positives:  54611\n"
     ]
    }
   ],
   "source": [
    "n = 3464261\n",
    "bit_array_optimal = bloom_filter_10(n)\n",
    "print \"number of false positives: \", len(calculate_false_positives (bit_array_optimal, n))"
   ]
  },
  {
   "cell_type": "markdown",
   "metadata": {},
   "source": [
    "For number of distinct elements expected in the stream n = 361423 we calculate the optimal size of bit array for error rate of 0.001 as  m = 3464261 and the number of hash functions as 10 (rounded from 9.96). We see that the number of false positives obtained is 54611"
   ]
  },
  {
   "cell_type": "code",
   "execution_count": 49,
   "metadata": {
    "collapsed": false
   },
   "outputs": [
    {
     "data": {
      "text/plain": [
       "612522"
      ]
     },
     "execution_count": 49,
     "metadata": {},
     "output_type": "execute_result"
    }
   ],
   "source": [
    "n = len(set(training)) + len(set(test))\n",
    "n"
   ]
  },
  {
   "cell_type": "code",
   "execution_count": 57,
   "metadata": {
    "collapsed": false
   },
   "outputs": [],
   "source": [
    "w = 1000000\n",
    "d = 6\n",
    "mat = np.zeros([d, w])\n",
    "seeds = np.random.randint(1, 100, d, dtype='l')"
   ]
  },
  {
   "cell_type": "code",
   "execution_count": 58,
   "metadata": {
    "collapsed": true
   },
   "outputs": [],
   "source": [
    "def CM_Sketch ( w, d ):  \n",
    "    for ip in iplist:\n",
    "        for i in range(d):\n",
    "            b = mmh3.hash(str(ip),seeds[i]) % w\n",
    "            mat[i][b] += 1"
   ]
  },
  {
   "cell_type": "code",
   "execution_count": 60,
   "metadata": {
    "collapsed": false
   },
   "outputs": [
    {
     "name": "stdout",
     "output_type": "stream",
     "text": [
      "(6L, 1000000L)\n"
     ]
    }
   ],
   "source": [
    "CM_Sketch(w, d)\n",
    "print mat.shape"
   ]
  },
  {
   "cell_type": "code",
   "execution_count": 61,
   "metadata": {
    "collapsed": false
   },
   "outputs": [],
   "source": [
    "def get_count (ip, w, d):\n",
    "    counts = np.zeros(d)\n",
    "    for i in range(d):\n",
    "        b = mmh3.hash(ip, seeds[i]) % w \n",
    "        counts[i] = mat[i][b]\n",
    "        # print \"b, freq\", b, mat[i][b]\n",
    "    return np.ndarray.min(counts)"
   ]
  },
  {
   "cell_type": "code",
   "execution_count": 62,
   "metadata": {
    "collapsed": false
   },
   "outputs": [],
   "source": [
    "ip_freq = {}\n",
    "for ip in set(iplist):\n",
    "    ip_freq[ip] = get_count(ip, w, d)"
   ]
  },
  {
   "cell_type": "code",
   "execution_count": 49,
   "metadata": {
    "collapsed": true
   },
   "outputs": [],
   "source": [
    "t = [('115.177.11.215', 294690),\n",
    " ('115.176.182.196', 259241),\n",
    " ('192.3.106.42', 66572),\n",
    " ('191.96.249.189', 51251),\n",
    " ('104.192.0.20', 18707),\n",
    " ('198.204.234.26', 6817),\n",
    " ('198.204.234.27', 5284),\n",
    " ('198.204.234.28', 5239),\n",
    " ('185.93.185.10', 5157),\n",
    " ('198.204.234.30', 5049)]"
   ]
  },
  {
   "cell_type": "code",
   "execution_count": 63,
   "metadata": {
    "collapsed": false
   },
   "outputs": [
    {
     "name": "stdout",
     "output_type": "stream",
     "text": [
      "115.177.11.215 294690 549182.0\n",
      "115.176.182.196 259241 259241.0\n",
      "192.3.106.42 66572 89719.0\n",
      "191.96.249.189 51251 51251.0\n",
      "104.192.0.20 18707 37414.0\n",
      "198.204.234.26 6817 12887.0\n",
      "198.204.234.27 5284 9793.0\n",
      "198.204.234.28 5239 9677.0\n",
      "185.93.185.10 5157 5157.0\n",
      "198.204.234.30 5049 9311.0\n"
     ]
    }
   ],
   "source": [
    "for row in range(10):\n",
    "    print t[row][0], t[row][1], ip_freq[t[row][0]]"
   ]
  }
 ],
 "metadata": {
  "kernelspec": {
   "display_name": "Python 2",
   "language": "python",
   "name": "python2"
  },
  "language_info": {
   "codemirror_mode": {
    "name": "ipython",
    "version": 2
   },
   "file_extension": ".py",
   "mimetype": "text/x-python",
   "name": "python",
   "nbconvert_exporter": "python",
   "pygments_lexer": "ipython2",
   "version": "2.7.13"
  }
 },
 "nbformat": 4,
 "nbformat_minor": 2
}
